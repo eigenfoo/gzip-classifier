{
 "cells": [
  {
   "cell_type": "markdown",
   "id": "85defc57",
   "metadata": {},
   "source": [
    "# Gzip as a Machine Learning Classifier"
   ]
  },
  {
   "cell_type": "raw",
   "id": "abb1d7b3",
   "metadata": {},
   "source": [
    "%load_ext lab_black"
   ]
  },
  {
   "cell_type": "code",
   "execution_count": 1,
   "id": "7e770591",
   "metadata": {},
   "outputs": [],
   "source": [
    "from __future__ import annotations\n",
    "import gzip\n",
    "import numpy as np\n",
    "import pandas as pd\n",
    "from sklearn.base import BaseEstimator, ClassifierMixin\n",
    "from sklearn.utils.estimator_checks import check_estimator\n",
    "from sklearn import datasets"
   ]
  },
  {
   "cell_type": "code",
   "execution_count": 3,
   "id": "cfe07df6",
   "metadata": {},
   "outputs": [
    {
     "data": {
      "text/html": [
       "<div>\n",
       "<style scoped>\n",
       "    .dataframe tbody tr th:only-of-type {\n",
       "        vertical-align: middle;\n",
       "    }\n",
       "\n",
       "    .dataframe tbody tr th {\n",
       "        vertical-align: top;\n",
       "    }\n",
       "\n",
       "    .dataframe thead th {\n",
       "        text-align: right;\n",
       "    }\n",
       "</style>\n",
       "<table border=\"1\" class=\"dataframe\">\n",
       "  <thead>\n",
       "    <tr style=\"text-align: right;\">\n",
       "      <th></th>\n",
       "      <th>a</th>\n",
       "      <th>b</th>\n",
       "      <th>c</th>\n",
       "      <th>d</th>\n",
       "      <th>e</th>\n",
       "      <th>y</th>\n",
       "    </tr>\n",
       "  </thead>\n",
       "  <tbody>\n",
       "    <tr>\n",
       "      <th>0</th>\n",
       "      <td>1</td>\n",
       "      <td>2</td>\n",
       "      <td>3</td>\n",
       "      <td>4</td>\n",
       "      <td>5</td>\n",
       "      <td>0</td>\n",
       "    </tr>\n",
       "    <tr>\n",
       "      <th>1</th>\n",
       "      <td>1</td>\n",
       "      <td>2</td>\n",
       "      <td>3</td>\n",
       "      <td>4</td>\n",
       "      <td>5</td>\n",
       "      <td>0</td>\n",
       "    </tr>\n",
       "    <tr>\n",
       "      <th>2</th>\n",
       "      <td>1</td>\n",
       "      <td>2</td>\n",
       "      <td>3</td>\n",
       "      <td>4</td>\n",
       "      <td>5</td>\n",
       "      <td>0</td>\n",
       "    </tr>\n",
       "    <tr>\n",
       "      <th>3</th>\n",
       "      <td>1</td>\n",
       "      <td>2</td>\n",
       "      <td>3</td>\n",
       "      <td>4</td>\n",
       "      <td>5</td>\n",
       "      <td>0</td>\n",
       "    </tr>\n",
       "    <tr>\n",
       "      <th>4</th>\n",
       "      <td>1</td>\n",
       "      <td>2</td>\n",
       "      <td>3</td>\n",
       "      <td>4</td>\n",
       "      <td>5</td>\n",
       "      <td>0</td>\n",
       "    </tr>\n",
       "  </tbody>\n",
       "</table>\n",
       "</div>"
      ],
      "text/plain": [
       "   a  b  c  d  e  y\n",
       "0  1  2  3  4  5  0\n",
       "1  1  2  3  4  5  0\n",
       "2  1  2  3  4  5  0\n",
       "3  1  2  3  4  5  0\n",
       "4  1  2  3  4  5  0"
      ]
     },
     "execution_count": 3,
     "metadata": {},
     "output_type": "execute_result"
    }
   ],
   "source": [
    "pd.read_csv(\"foo.csv\").head()"
   ]
  },
  {
   "cell_type": "code",
   "execution_count": 4,
   "id": "489a0a9c",
   "metadata": {},
   "outputs": [
    {
     "name": "stdout",
     "output_type": "stream",
     "text": [
      "45\n",
      "45\n",
      "46\n"
     ]
    }
   ],
   "source": [
    "def gzip_size(filename: str, append: str | None = None) -> int:\n",
    "    with open(filename, \"rb\") as f:\n",
    "        content = f.read()\n",
    "\n",
    "    if append is not None:\n",
    "        content += bytes(append, \"utf-8\")\n",
    "\n",
    "    return len(gzip.compress(content))\n",
    "\n",
    "\n",
    "print(gzip_size(\"foo.csv\"))\n",
    "print(gzip_size(\"foo.csv\", \"1,2,3,4,5,0\"))\n",
    "print(gzip_size(\"foo.csv\", \"1,2,3,4,5,1\"))"
   ]
  },
  {
   "cell_type": "code",
   "execution_count": 5,
   "id": "455b25a2",
   "metadata": {},
   "outputs": [],
   "source": [
    "class GzipClassifier(BaseEstimator, ClassifierMixin):\n",
    "    def __init__(self, label_set: list):\n",
    "        self.label_set = label_set\n",
    "\n",
    "    def fit(self, X: str, y=None):\n",
    "        self.filename = X\n",
    "        self.base_size = gzip_size(X)\n",
    "\n",
    "    def predict(self, X: list[str]):\n",
    "        out = []\n",
    "        for x in X:\n",
    "            sizes = {label: gzip_size(self.filename, x + f\",{label}\") for label in self.label_set}\n",
    "            out.append(min(sizes, key=sizes.get))\n",
    "\n",
    "        return out\n"
   ]
  },
  {
   "cell_type": "code",
   "execution_count": 7,
   "id": "cd5c28de",
   "metadata": {},
   "outputs": [
    {
     "data": {
      "text/plain": [
       "[0]"
      ]
     },
     "execution_count": 7,
     "metadata": {},
     "output_type": "execute_result"
    }
   ],
   "source": [
    "clf = GzipClassifier([0, 1])\n",
    "clf.fit(\"foo.csv\")\n",
    "clf.predict([\"1,2,3,4,5\"])"
   ]
  },
  {
   "cell_type": "code",
   "execution_count": 8,
   "id": "ee7ffc0b",
   "metadata": {},
   "outputs": [
    {
     "data": {
      "text/plain": [
       "'sepal length (cm),sepal width (cm),petal length (cm),petal width (cm)\\n5.1,3.5,1.4,0.2\\n4.9,3.0,1.4,0.2\\n4.7,3.2,1.3,0.2\\n4.6,3.1,1.5,0.2\\n5.0,3.6,1.4,0.2\\n5.4,3.9,1.7,0.4\\n4.6,3.4,1.4,0.3\\n5.0,3.4,1.5,0.2\\n4.4,2.9,1.4,0.2\\n4.9,3.1,1.5,0.1\\n5.4,3.7,1.5,0.2\\n4.8,3.4,1.6,0.2\\n4.8,3.0,1.4,0.1\\n4.3,3.0,1.1,0.1\\n5.8,4.0,1.2,0.2\\n5.7,4.4,1.5,0.4\\n5.4,3.9,1.3,0.4\\n5.1,3.5,1.4,0.3\\n5.7,3.8,1.7,0.3\\n5.1,3.8,1.5,0.3\\n5.4,3.4,1.7,0.2\\n5.1,3.7,1.5,0.4\\n4.6,3.6,1.0,0.2\\n5.1,3.3,1.7,0.5\\n4.8,3.4,1.9,0.2\\n5.0,3.0,1.6,0.2\\n5.0,3.4,1.6,0.4\\n5.2,3.5,1.5,0.2\\n5.2,3.4,1.4,0.2\\n4.7,3.2,1.6,0.2\\n4.8,3.1,1.6,0.2\\n5.4,3.4,1.5,0.4\\n5.2,4.1,1.5,0.1\\n5.5,4.2,1.4,0.2\\n4.9,3.1,1.5,0.2\\n5.0,3.2,1.2,0.2\\n5.5,3.5,1.3,0.2\\n4.9,3.6,1.4,0.1\\n4.4,3.0,1.3,0.2\\n5.1,3.4,1.5,0.2\\n5.0,3.5,1.3,0.3\\n4.5,2.3,1.3,0.3\\n4.4,3.2,1.3,0.2\\n5.0,3.5,1.6,0.6\\n5.1,3.8,1.9,0.4\\n4.8,3.0,1.4,0.3\\n5.1,3.8,1.6,0.2\\n4.6,3.2,1.4,0.2\\n5.3,3.7,1.5,0.2\\n5.0,3.3,1.4,0.2\\n7.0,3.2,4.7,1.4\\n6.4,3.2,4.5,1.5\\n6.9,3.1,4.9,1.5\\n5.5,2.3,4.0,1.3\\n6.5,2.8,4.6,1.5\\n5.7,2.8,4.5,1.3\\n6.3,3.3,4.7,1.6\\n4.9,2.4,3.3,1.0\\n6.6,2.9,4.6,1.3\\n5.2,2.7,3.9,1.4\\n5.0,2.0,3.5,1.0\\n5.9,3.0,4.2,1.5\\n6.0,2.2,4.0,1.0\\n6.1,2.9,4.7,1.4\\n5.6,2.9,3.6,1.3\\n6.7,3.1,4.4,1.4\\n5.6,3.0,4.5,1.5\\n5.8,2.7,4.1,1.0\\n6.2,2.2,4.5,1.5\\n5.6,2.5,3.9,1.1\\n5.9,3.2,4.8,1.8\\n6.1,2.8,4.0,1.3\\n6.3,2.5,4.9,1.5\\n6.1,2.8,4.7,1.2\\n6.4,2.9,4.3,1.3\\n6.6,3.0,4.4,1.4\\n6.8,2.8,4.8,1.4\\n6.7,3.0,5.0,1.7\\n6.0,2.9,4.5,1.5\\n5.7,2.6,3.5,1.0\\n5.5,2.4,3.8,1.1\\n5.5,2.4,3.7,1.0\\n5.8,2.7,3.9,1.2\\n6.0,2.7,5.1,1.6\\n5.4,3.0,4.5,1.5\\n6.0,3.4,4.5,1.6\\n6.7,3.1,4.7,1.5\\n6.3,2.3,4.4,1.3\\n5.6,3.0,4.1,1.3\\n5.5,2.5,4.0,1.3\\n5.5,2.6,4.4,1.2\\n6.1,3.0,4.6,1.4\\n5.8,2.6,4.0,1.2\\n5.0,2.3,3.3,1.0\\n5.6,2.7,4.2,1.3\\n5.7,3.0,4.2,1.2\\n5.7,2.9,4.2,1.3\\n6.2,2.9,4.3,1.3\\n5.1,2.5,3.0,1.1\\n5.7,2.8,4.1,1.3\\n6.3,3.3,6.0,2.5\\n5.8,2.7,5.1,1.9\\n7.1,3.0,5.9,2.1\\n6.3,2.9,5.6,1.8\\n6.5,3.0,5.8,2.2\\n7.6,3.0,6.6,2.1\\n4.9,2.5,4.5,1.7\\n7.3,2.9,6.3,1.8\\n6.7,2.5,5.8,1.8\\n7.2,3.6,6.1,2.5\\n6.5,3.2,5.1,2.0\\n6.4,2.7,5.3,1.9\\n6.8,3.0,5.5,2.1\\n5.7,2.5,5.0,2.0\\n5.8,2.8,5.1,2.4\\n6.4,3.2,5.3,2.3\\n6.5,3.0,5.5,1.8\\n7.7,3.8,6.7,2.2\\n7.7,2.6,6.9,2.3\\n6.0,2.2,5.0,1.5\\n6.9,3.2,5.7,2.3\\n5.6,2.8,4.9,2.0\\n7.7,2.8,6.7,2.0\\n6.3,2.7,4.9,1.8\\n6.7,3.3,5.7,2.1\\n7.2,3.2,6.0,1.8\\n6.2,2.8,4.8,1.8\\n6.1,3.0,4.9,1.8\\n6.4,2.8,5.6,2.1\\n7.2,3.0,5.8,1.6\\n7.4,2.8,6.1,1.9\\n7.9,3.8,6.4,2.0\\n6.4,2.8,5.6,2.2\\n6.3,2.8,5.1,1.5\\n6.1,2.6,5.6,1.4\\n7.7,3.0,6.1,2.3\\n6.3,3.4,5.6,2.4\\n6.4,3.1,5.5,1.8\\n6.0,3.0,4.8,1.8\\n6.9,3.1,5.4,2.1\\n6.7,3.1,5.6,2.4\\n6.9,3.1,5.1,2.3\\n5.8,2.7,5.1,1.9\\n6.8,3.2,5.9,2.3\\n6.7,3.3,5.7,2.5\\n6.7,3.0,5.2,2.3\\n6.3,2.5,5.0,1.9\\n6.5,3.0,5.2,2.0\\n6.2,3.4,5.4,2.3\\n5.9,3.0,5.1,1.8\\n'"
      ]
     },
     "execution_count": 8,
     "metadata": {},
     "output_type": "execute_result"
    }
   ],
   "source": [
    "X, y = datasets.load_iris(return_X_y=True, as_frame=True)\n",
    "X.to_csv(index=False)\n"
   ]
  },
  {
   "cell_type": "code",
   "execution_count": null,
   "id": "73b15ffb",
   "metadata": {},
   "outputs": [],
   "source": []
  }
 ],
 "metadata": {
  "kernelspec": {
   "display_name": "Python 3 (ipykernel)",
   "language": "python",
   "name": "python3"
  },
  "language_info": {
   "codemirror_mode": {
    "name": "ipython",
    "version": 3
   },
   "file_extension": ".py",
   "mimetype": "text/x-python",
   "name": "python",
   "nbconvert_exporter": "python",
   "pygments_lexer": "ipython3",
   "version": "3.9.7"
  }
 },
 "nbformat": 4,
 "nbformat_minor": 5
}
